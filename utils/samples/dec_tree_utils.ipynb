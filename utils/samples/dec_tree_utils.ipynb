{
 "cells": [
  {
   "cell_type": "code",
   "execution_count": 1,
   "metadata": {},
   "outputs": [],
   "source": [
    "import pandas as pd"
   ]
  },
  {
   "cell_type": "code",
   "execution_count": 2,
   "metadata": {},
   "outputs": [],
   "source": [
    "import sys\n",
    "sys.path.append('../')"
   ]
  },
  {
   "cell_type": "code",
   "execution_count": 3,
   "metadata": {},
   "outputs": [],
   "source": [
    "from dec_tree_utils import  gain, shannon_entropy, \\\n",
    "                            categorize_attr, \\\n",
    "                            categorize_attr_by_vals"
   ]
  },
  {
   "cell_type": "code",
   "execution_count": 4,
   "metadata": {},
   "outputs": [
    {
     "data": {
      "text/html": [
       "<div>\n",
       "<style scoped>\n",
       "    .dataframe tbody tr th:only-of-type {\n",
       "        vertical-align: middle;\n",
       "    }\n",
       "\n",
       "    .dataframe tbody tr th {\n",
       "        vertical-align: top;\n",
       "    }\n",
       "\n",
       "    .dataframe thead th {\n",
       "        text-align: right;\n",
       "    }\n",
       "</style>\n",
       "<table border=\"1\" class=\"dataframe\">\n",
       "  <thead>\n",
       "    <tr style=\"text-align: right;\">\n",
       "      <th></th>\n",
       "      <th>Dia</th>\n",
       "      <th>Pronostico</th>\n",
       "      <th>Temperatura</th>\n",
       "      <th>Humedad</th>\n",
       "      <th>Viento</th>\n",
       "      <th>¿Juega?</th>\n",
       "    </tr>\n",
       "  </thead>\n",
       "  <tbody>\n",
       "    <tr>\n",
       "      <th>0</th>\n",
       "      <td>D1</td>\n",
       "      <td>soleado</td>\n",
       "      <td>cálido</td>\n",
       "      <td>alta</td>\n",
       "      <td>débil</td>\n",
       "      <td>no</td>\n",
       "    </tr>\n",
       "    <tr>\n",
       "      <th>1</th>\n",
       "      <td>D2</td>\n",
       "      <td>soleado</td>\n",
       "      <td>cálido</td>\n",
       "      <td>alta</td>\n",
       "      <td>fuerte</td>\n",
       "      <td>no</td>\n",
       "    </tr>\n",
       "    <tr>\n",
       "      <th>2</th>\n",
       "      <td>D3</td>\n",
       "      <td>nublado</td>\n",
       "      <td>cálido</td>\n",
       "      <td>alta</td>\n",
       "      <td>débil</td>\n",
       "      <td>si</td>\n",
       "    </tr>\n",
       "    <tr>\n",
       "      <th>3</th>\n",
       "      <td>D4</td>\n",
       "      <td>lluvioso</td>\n",
       "      <td>templado</td>\n",
       "      <td>alta</td>\n",
       "      <td>débil</td>\n",
       "      <td>si</td>\n",
       "    </tr>\n",
       "    <tr>\n",
       "      <th>4</th>\n",
       "      <td>D5</td>\n",
       "      <td>lluvioso</td>\n",
       "      <td>frío</td>\n",
       "      <td>normal</td>\n",
       "      <td>débil</td>\n",
       "      <td>si</td>\n",
       "    </tr>\n",
       "    <tr>\n",
       "      <th>5</th>\n",
       "      <td>D6</td>\n",
       "      <td>lluvioso</td>\n",
       "      <td>frío</td>\n",
       "      <td>normal</td>\n",
       "      <td>fuerte</td>\n",
       "      <td>no</td>\n",
       "    </tr>\n",
       "    <tr>\n",
       "      <th>6</th>\n",
       "      <td>D7</td>\n",
       "      <td>nublado</td>\n",
       "      <td>frío</td>\n",
       "      <td>normal</td>\n",
       "      <td>fuerte</td>\n",
       "      <td>si</td>\n",
       "    </tr>\n",
       "    <tr>\n",
       "      <th>7</th>\n",
       "      <td>D8</td>\n",
       "      <td>soleado</td>\n",
       "      <td>templado</td>\n",
       "      <td>alta</td>\n",
       "      <td>débil</td>\n",
       "      <td>no</td>\n",
       "    </tr>\n",
       "    <tr>\n",
       "      <th>8</th>\n",
       "      <td>D9</td>\n",
       "      <td>soleado</td>\n",
       "      <td>frío</td>\n",
       "      <td>normal</td>\n",
       "      <td>débil</td>\n",
       "      <td>si</td>\n",
       "    </tr>\n",
       "    <tr>\n",
       "      <th>9</th>\n",
       "      <td>D10</td>\n",
       "      <td>lluvioso</td>\n",
       "      <td>templado</td>\n",
       "      <td>normal</td>\n",
       "      <td>débil</td>\n",
       "      <td>si</td>\n",
       "    </tr>\n",
       "    <tr>\n",
       "      <th>10</th>\n",
       "      <td>D11</td>\n",
       "      <td>soleado</td>\n",
       "      <td>templado</td>\n",
       "      <td>normal</td>\n",
       "      <td>fuerte</td>\n",
       "      <td>si</td>\n",
       "    </tr>\n",
       "    <tr>\n",
       "      <th>11</th>\n",
       "      <td>D12</td>\n",
       "      <td>nublado</td>\n",
       "      <td>templado</td>\n",
       "      <td>alta</td>\n",
       "      <td>fuerte</td>\n",
       "      <td>si</td>\n",
       "    </tr>\n",
       "    <tr>\n",
       "      <th>12</th>\n",
       "      <td>D13</td>\n",
       "      <td>nublado</td>\n",
       "      <td>cálido</td>\n",
       "      <td>normal</td>\n",
       "      <td>débil</td>\n",
       "      <td>si</td>\n",
       "    </tr>\n",
       "    <tr>\n",
       "      <th>13</th>\n",
       "      <td>D14</td>\n",
       "      <td>lluvioso</td>\n",
       "      <td>templado</td>\n",
       "      <td>alta</td>\n",
       "      <td>fuerte</td>\n",
       "      <td>no</td>\n",
       "    </tr>\n",
       "  </tbody>\n",
       "</table>\n",
       "</div>"
      ],
      "text/plain": [
       "    Dia Pronostico Temperatura Humedad  Viento ¿Juega?\n",
       "0    D1    soleado      cálido    alta   débil      no\n",
       "1    D2    soleado      cálido    alta  fuerte      no\n",
       "2    D3    nublado      cálido    alta   débil      si\n",
       "3    D4   lluvioso    templado    alta   débil      si\n",
       "4    D5   lluvioso        frío  normal   débil      si\n",
       "5    D6   lluvioso        frío  normal  fuerte      no\n",
       "6    D7    nublado        frío  normal  fuerte      si\n",
       "7    D8    soleado    templado    alta   débil      no\n",
       "8    D9    soleado        frío  normal   débil      si\n",
       "9   D10   lluvioso    templado  normal   débil      si\n",
       "10  D11    soleado    templado  normal  fuerte      si\n",
       "11  D12    nublado    templado    alta  fuerte      si\n",
       "12  D13    nublado      cálido  normal   débil      si\n",
       "13  D14   lluvioso    templado    alta  fuerte      no"
      ]
     },
     "execution_count": 4,
     "metadata": {},
     "output_type": "execute_result"
    }
   ],
   "source": [
    "df = pd.read_excel(\"data/datos tenis.xlsx\")\n",
    "df"
   ]
  },
  {
   "cell_type": "code",
   "execution_count": 5,
   "metadata": {},
   "outputs": [],
   "source": [
    "wind_cats = categorize_attr([\n",
    "    {\n",
    "        \"cat_label\" : \"viento débil\",\n",
    "        \"df_slct_f\" : lambda df : df[\"Viento\"] == \"débil\",\n",
    "        \"s_slct_f\"  : lambda s  : s == \"débil\"\n",
    "    }, {\n",
    "        \"cat_label\" : \"viento fuerte\",\n",
    "        \"df_slct_f\" : lambda df : df[\"Viento\"] == \"fuerte\",\n",
    "        \"s_slct_f\"  : lambda s  : s == \"fuerte\"\n",
    "    }\n",
    "])"
   ]
  },
  {
   "cell_type": "code",
   "execution_count": 6,
   "metadata": {},
   "outputs": [],
   "source": [
    "wind_cats_by_vals = categorize_attr_by_vals(\"Viento\", [\"débil\", \"fuerte\"])"
   ]
  },
  {
   "cell_type": "code",
   "execution_count": 7,
   "metadata": {},
   "outputs": [
    {
     "data": {
      "text/plain": [
       "'H(S) = 0.9402859586706311'"
      ]
     },
     "metadata": {},
     "output_type": "display_data"
    }
   ],
   "source": [
    "h_s = shannon_entropy(df[\"¿Juega?\"])\n",
    "\n",
    "assert str(h_s) == \"0.9402859586706311\", \"Wrong Entropy Value\"\n",
    "\n",
    "display(\"H(S) = {}\".format(h_s))"
   ]
  },
  {
   "cell_type": "code",
   "execution_count": 8,
   "metadata": {},
   "outputs": [
    {
     "data": {
      "text/plain": [
       "'H(S | Viento = \"fuerte\") = 1.0'"
      ]
     },
     "metadata": {},
     "output_type": "display_data"
    }
   ],
   "source": [
    "h_sf = shannon_entropy(df[df[\"Viento\"] == \"fuerte\"][\"¿Juega?\"])\n",
    "\n",
    "assert str(h_sf) == \"1.0\", \"Wrong Entropy Value\"\n",
    "\n",
    "display(\"H(S | Viento = \\\"fuerte\\\") = {}\".format(h_sf))"
   ]
  },
  {
   "cell_type": "code",
   "execution_count": 9,
   "metadata": {},
   "outputs": [
    {
     "data": {
      "text/plain": [
       "'H(S | Viento = \"débil\") = 0.8112781244591328'"
      ]
     },
     "metadata": {},
     "output_type": "display_data"
    }
   ],
   "source": [
    "h_sd = shannon_entropy(df[df[\"Viento\"] == \"débil\"][\"¿Juega?\"])\n",
    "\n",
    "assert str(h_sd) == \"0.8112781244591328\", \"Wrong Entropy Value\"\n",
    "\n",
    "display(\"H(S | Viento = \\\"débil\\\") = {}\".format(h_sd))"
   ]
  },
  {
   "cell_type": "code",
   "execution_count": 10,
   "metadata": {},
   "outputs": [
    {
     "data": {
      "text/plain": [
       "'G(S, Viento) = 0.04812703040826949'"
      ]
     },
     "metadata": {},
     "output_type": "display_data"
    }
   ],
   "source": [
    "g = gain(df, \"¿Juega?\", attr=\"Viento\")\n",
    "\n",
    "assert str(g) == \"0.04812703040826949\", \"Wrong Gain Value\"\n",
    "\n",
    "display(\"G(S, Viento) = {}\".format(g))"
   ]
  },
  {
   "cell_type": "code",
   "execution_count": 11,
   "metadata": {},
   "outputs": [
    {
     "data": {
      "text/plain": [
       "'G(S, Viento) = 0.04812703040826949'"
      ]
     },
     "metadata": {},
     "output_type": "display_data"
    }
   ],
   "source": [
    "g = gain(df, \"¿Juega?\", attr=\"Viento\", attr_vals=[\"débil\", \"fuerte\"])\n",
    "\n",
    "assert str(g) == \"0.04812703040826949\", \"Wrong Gain Value\"\n",
    "\n",
    "display(\"G(S, Viento) = {}\".format(g))"
   ]
  },
  {
   "cell_type": "code",
   "execution_count": 12,
   "metadata": {},
   "outputs": [
    {
     "data": {
      "text/plain": [
       "'G(S, Viento) = 0.04812703040826949'"
      ]
     },
     "metadata": {},
     "output_type": "display_data"
    }
   ],
   "source": [
    "g = gain(df, \"¿Juega?\", cats4attr=wind_cats)\n",
    "\n",
    "assert str(g) == \"0.04812703040826949\", \"Wrong Gain Value\"\n",
    "\n",
    "display(\"G(S, Viento) = {}\".format(g))"
   ]
  },
  {
   "cell_type": "code",
   "execution_count": 13,
   "metadata": {},
   "outputs": [
    {
     "data": {
      "text/plain": [
       "'G(S, Viento) = 0.04812703040826949'"
      ]
     },
     "metadata": {},
     "output_type": "display_data"
    }
   ],
   "source": [
    "g = gain(df, \"¿Juega?\", cats4attr=wind_cats_by_vals)\n",
    "\n",
    "assert str(g) == \"0.04812703040826949\", \"Wrong Gain Value\"\n",
    "\n",
    "display(\"G(S, Viento) = {}\".format(g))"
   ]
  },
  {
   "cell_type": "code",
   "execution_count": 14,
   "metadata": {},
   "outputs": [],
   "source": [
    "from dec_tree_utils import categorize_attrs_by_vals_from_df"
   ]
  },
  {
   "cell_type": "code",
   "execution_count": 15,
   "metadata": {},
   "outputs": [
    {
     "data": {
      "text/plain": [
       "{'Viento': [AttrCat(cat_label='viento débil', slct_f=<function __create_attr_cat__.<locals>.slct_f at 0x7f2f1f816320>),\n",
       "  AttrCat(cat_label='viento fuerte', slct_f=<function __create_attr_cat__.<locals>.slct_f at 0x7f2f1f8163b0>)],\n",
       " 'Temperatura': [AttrCat(cat_label='cálido', slct_f=<function __create_attr_cat__.<locals>.slct_f at 0x7f2f1f816680>),\n",
       "  AttrCat(cat_label='templado', slct_f=<function __create_attr_cat__.<locals>.slct_f at 0x7f2f1f816c20>),\n",
       "  AttrCat(cat_label='frío', slct_f=<function __create_attr_cat__.<locals>.slct_f at 0x7f2f1f816dd0>)]}"
      ]
     },
     "execution_count": 15,
     "metadata": {},
     "output_type": "execute_result"
    }
   ],
   "source": [
    "categorize_attrs_by_vals_from_df(df[[\"Viento\", \"Temperatura\"]], cats4attrs={\n",
    "    \"Viento\" : wind_cats\n",
    "})"
   ]
  },
  {
   "cell_type": "code",
   "execution_count": 16,
   "metadata": {},
   "outputs": [
    {
     "data": {
      "text/plain": [
       "{'Viento': [AttrCat(cat_label='viento débil', slct_f=<function __create_attr_cat__.<locals>.slct_f at 0x7f2f1f817010>),\n",
       "  AttrCat(cat_label='viento fuerte', slct_f=<function __create_attr_cat__.<locals>.slct_f at 0x7f2f1f8170a0>)],\n",
       " 'Temperatura': [AttrCat(cat_label='cálido', slct_f=<function __create_attr_cat__.<locals>.slct_f at 0x7f2f1f817250>),\n",
       "  AttrCat(cat_label='templado', slct_f=<function __create_attr_cat__.<locals>.slct_f at 0x7f2f1f817400>),\n",
       "  AttrCat(cat_label='frío', slct_f=<function __create_attr_cat__.<locals>.slct_f at 0x7f2f1f8175b0>)]}"
      ]
     },
     "execution_count": 16,
     "metadata": {},
     "output_type": "execute_result"
    }
   ],
   "source": [
    "categorize_attrs_by_vals_from_df(df[[\"Viento\", \"Temperatura\"]], cats4attrs={\n",
    "    \"Viento\" : categorize_attr([\n",
    "        {\n",
    "            \"cat_label\" : \"viento débil\",\n",
    "            \"df_slct_f\" : lambda df : df[\"Viento\"] == \"débil\",\n",
    "            \"s_slct_f\"  : lambda s  : s == \"débil\"\n",
    "        }, {\n",
    "            \"cat_label\" : \"viento fuerte\",\n",
    "            \"df_slct_f\" : lambda df : df[\"Viento\"] == \"fuerte\",\n",
    "            \"s_slct_f\"  : lambda s  : s == \"fuerte\"\n",
    "        }\n",
    "    ])\n",
    "})"
   ]
  }
 ],
 "metadata": {
  "kernelspec": {
   "display_name": "Python 3",
   "language": "python",
   "name": "python3"
  },
  "language_info": {
   "codemirror_mode": {
    "name": "ipython",
    "version": 3
   },
   "file_extension": ".py",
   "mimetype": "text/x-python",
   "name": "python",
   "nbconvert_exporter": "python",
   "pygments_lexer": "ipython3",
   "version": "3.10.12"
  },
  "orig_nbformat": 4
 },
 "nbformat": 4,
 "nbformat_minor": 2
}
